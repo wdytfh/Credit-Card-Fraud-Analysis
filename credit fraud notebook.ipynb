{
 "cells": [
  {
   "cell_type": "code",
   "execution_count": 1,
   "id": "8f93a30b",
   "metadata": {},
   "outputs": [],
   "source": [
    "import pandas as pd"
   ]
  },
  {
   "cell_type": "code",
   "execution_count": 2,
   "id": "f7a77024",
   "metadata": {},
   "outputs": [],
   "source": [
    "df=pd.read_csv('card_transdata.csv')"
   ]
  },
  {
   "cell_type": "code",
   "execution_count": 3,
   "id": "3843ad34",
   "metadata": {},
   "outputs": [
    {
     "data": {
      "text/html": [
       "<div>\n",
       "<style scoped>\n",
       "    .dataframe tbody tr th:only-of-type {\n",
       "        vertical-align: middle;\n",
       "    }\n",
       "\n",
       "    .dataframe tbody tr th {\n",
       "        vertical-align: top;\n",
       "    }\n",
       "\n",
       "    .dataframe thead th {\n",
       "        text-align: right;\n",
       "    }\n",
       "</style>\n",
       "<table border=\"1\" class=\"dataframe\">\n",
       "  <thead>\n",
       "    <tr style=\"text-align: right;\">\n",
       "      <th></th>\n",
       "      <th>distance_from_home</th>\n",
       "      <th>distance_from_last_transaction</th>\n",
       "      <th>ratio_to_median_purchase_price</th>\n",
       "      <th>repeat_retailer</th>\n",
       "      <th>used_chip</th>\n",
       "      <th>used_pin_number</th>\n",
       "      <th>online_order</th>\n",
       "      <th>fraud</th>\n",
       "    </tr>\n",
       "  </thead>\n",
       "  <tbody>\n",
       "    <tr>\n",
       "      <th>0</th>\n",
       "      <td>57.877857</td>\n",
       "      <td>0.311140</td>\n",
       "      <td>1.945940</td>\n",
       "      <td>1.0</td>\n",
       "      <td>1.0</td>\n",
       "      <td>0.0</td>\n",
       "      <td>0.0</td>\n",
       "      <td>0.0</td>\n",
       "    </tr>\n",
       "    <tr>\n",
       "      <th>1</th>\n",
       "      <td>10.829943</td>\n",
       "      <td>0.175592</td>\n",
       "      <td>1.294219</td>\n",
       "      <td>1.0</td>\n",
       "      <td>0.0</td>\n",
       "      <td>0.0</td>\n",
       "      <td>0.0</td>\n",
       "      <td>0.0</td>\n",
       "    </tr>\n",
       "    <tr>\n",
       "      <th>2</th>\n",
       "      <td>5.091079</td>\n",
       "      <td>0.805153</td>\n",
       "      <td>0.427715</td>\n",
       "      <td>1.0</td>\n",
       "      <td>0.0</td>\n",
       "      <td>0.0</td>\n",
       "      <td>1.0</td>\n",
       "      <td>0.0</td>\n",
       "    </tr>\n",
       "    <tr>\n",
       "      <th>3</th>\n",
       "      <td>2.247564</td>\n",
       "      <td>5.600044</td>\n",
       "      <td>0.362663</td>\n",
       "      <td>1.0</td>\n",
       "      <td>1.0</td>\n",
       "      <td>0.0</td>\n",
       "      <td>1.0</td>\n",
       "      <td>0.0</td>\n",
       "    </tr>\n",
       "    <tr>\n",
       "      <th>4</th>\n",
       "      <td>44.190936</td>\n",
       "      <td>0.566486</td>\n",
       "      <td>2.222767</td>\n",
       "      <td>1.0</td>\n",
       "      <td>1.0</td>\n",
       "      <td>0.0</td>\n",
       "      <td>1.0</td>\n",
       "      <td>0.0</td>\n",
       "    </tr>\n",
       "  </tbody>\n",
       "</table>\n",
       "</div>"
      ],
      "text/plain": [
       "   distance_from_home  distance_from_last_transaction  \\\n",
       "0           57.877857                        0.311140   \n",
       "1           10.829943                        0.175592   \n",
       "2            5.091079                        0.805153   \n",
       "3            2.247564                        5.600044   \n",
       "4           44.190936                        0.566486   \n",
       "\n",
       "   ratio_to_median_purchase_price  repeat_retailer  used_chip  \\\n",
       "0                        1.945940              1.0        1.0   \n",
       "1                        1.294219              1.0        0.0   \n",
       "2                        0.427715              1.0        0.0   \n",
       "3                        0.362663              1.0        1.0   \n",
       "4                        2.222767              1.0        1.0   \n",
       "\n",
       "   used_pin_number  online_order  fraud  \n",
       "0              0.0           0.0    0.0  \n",
       "1              0.0           0.0    0.0  \n",
       "2              0.0           1.0    0.0  \n",
       "3              0.0           1.0    0.0  \n",
       "4              0.0           1.0    0.0  "
      ]
     },
     "execution_count": 3,
     "metadata": {},
     "output_type": "execute_result"
    }
   ],
   "source": [
    "df.head(5)"
   ]
  },
  {
   "cell_type": "code",
   "execution_count": 4,
   "id": "27866347",
   "metadata": {},
   "outputs": [
    {
     "data": {
      "text/plain": [
       "distance_from_home                float64\n",
       "distance_from_last_transaction    float64\n",
       "ratio_to_median_purchase_price    float64\n",
       "repeat_retailer                   float64\n",
       "used_chip                         float64\n",
       "used_pin_number                   float64\n",
       "online_order                      float64\n",
       "fraud                             float64\n",
       "dtype: object"
      ]
     },
     "execution_count": 4,
     "metadata": {},
     "output_type": "execute_result"
    }
   ],
   "source": [
    "df.dtypes"
   ]
  },
  {
   "cell_type": "code",
   "execution_count": 5,
   "id": "d95360f9",
   "metadata": {},
   "outputs": [
    {
     "data": {
      "text/plain": [
       "(1000000, 8)"
      ]
     },
     "execution_count": 5,
     "metadata": {},
     "output_type": "execute_result"
    }
   ],
   "source": [
    "df.shape"
   ]
  },
  {
   "cell_type": "code",
   "execution_count": 6,
   "id": "f52ea1ad",
   "metadata": {},
   "outputs": [],
   "source": [
    "df=df.dropna()"
   ]
  },
  {
   "cell_type": "code",
   "execution_count": 7,
   "id": "1afb30a2",
   "metadata": {},
   "outputs": [
    {
     "data": {
      "text/plain": [
       "(1000000, 8)"
      ]
     },
     "execution_count": 7,
     "metadata": {},
     "output_type": "execute_result"
    }
   ],
   "source": [
    "df.shape"
   ]
  },
  {
   "cell_type": "code",
   "execution_count": 8,
   "id": "3f57715c",
   "metadata": {},
   "outputs": [],
   "source": [
    "import matplotlib.pyplot as plt"
   ]
  },
  {
   "cell_type": "code",
   "execution_count": 9,
   "id": "f870f02e",
   "metadata": {},
   "outputs": [
    {
     "data": {
      "text/plain": [
       "<AxesSubplot:xlabel='fraud', ylabel='distance_from_home'>"
      ]
     },
     "execution_count": 9,
     "metadata": {},
     "output_type": "execute_result"
    },
    {
     "data": {
      "image/png": "[encoded data removed]",
      "text/plain": [
       "<Figure size 432x288 with 1 Axes>"
      ]
     },
     "metadata": {
      "needs_background": "light"
     },
     "output_type": "display_data"
    }
   ],
   "source": [
    "df.plot(x='fraud',y='distance_from_home',kind='scatter')"
   ]
  },
  {
   "cell_type": "code",
   "execution_count": 10,
   "id": "275b236d",
   "metadata": {},
   "outputs": [],
   "source": [
    "df=df[df['distance_from_home']<5000]"
   ]
  },
  {
   "cell_type": "code",
   "execution_count": 11,
   "id": "4ae80d6f",
   "metadata": {},
   "outputs": [
    {
     "data": {
      "text/plain": [
       "<AxesSubplot:xlabel='fraud', ylabel='distance_from_last_transaction'>"
      ]
     },
     "execution_count": 11,
     "metadata": {},
     "output_type": "execute_result"
    },
    {
     "data": {
      "image/png": "[encoded data removed]",
      "text/plain": [
       "<Figure size 432x288 with 1 Axes>"
      ]
     },
     "metadata": {
      "needs_background": "light"
     },
     "output_type": "display_data"
    }
   ],
   "source": [
    "df.plot(x='fraud',y='distance_from_last_transaction',kind='scatter')"
   ]
  },
  {
   "cell_type": "code",
   "execution_count": 12,
   "id": "f8e04565",
   "metadata": {},
   "outputs": [],
   "source": [
    "df=df[df['distance_from_last_transaction']<4000]"
   ]
  },
  {
   "cell_type": "code",
   "execution_count": 13,
   "id": "5438b4ff",
   "metadata": {},
   "outputs": [
    {
     "data": {
      "text/plain": [
       "<AxesSubplot:xlabel='fraud', ylabel='ratio_to_median_purchase_price'>"
      ]
     },
     "execution_count": 13,
     "metadata": {},
     "output_type": "execute_result"
    },
    {
     "data": {
      "image/png": "[encoded data removed]",
      "text/plain": [
       "<Figure size 432x288 with 1 Axes>"
      ]
     },
     "metadata": {
      "needs_background": "light"
     },
     "output_type": "display_data"
    }
   ],
   "source": [
    "df.plot(x='fraud',y='ratio_to_median_purchase_price',kind='scatter')"
   ]
  },
  {
   "cell_type": "code",
   "execution_count": 14,
   "id": "0bb2970a",
   "metadata": {},
   "outputs": [],
   "source": [
    "df=df[df['ratio_to_median_purchase_price']<150]"
   ]
  },
  {
   "cell_type": "code",
   "execution_count": 15,
   "id": "24c42a54",
   "metadata": {},
   "outputs": [
    {
     "data": {
      "text/plain": [
       "<AxesSubplot:xlabel='fraud', ylabel='distance_from_home'>"
      ]
     },
     "execution_count": 15,
     "metadata": {},
     "output_type": "execute_result"
    },
    {
     "data": {
      "image/png": "[encoded data removed]",
      "text/plain": [
       "<Figure size 432x288 with 1 Axes>"
      ]
     },
     "metadata": {
      "needs_background": "light"
     },
     "output_type": "display_data"
    }
   ],
   "source": [
    "df.plot(x='fraud',y='distance_from_home',kind='scatter')"
   ]
  },
  {
   "cell_type": "code",
   "execution_count": 16,
   "id": "2f14274c",
   "metadata": {},
   "outputs": [
    {
     "data": {
      "text/plain": [
       "<AxesSubplot:xlabel='fraud', ylabel='distance_from_last_transaction'>"
      ]
     },
     "execution_count": 16,
     "metadata": {},
     "output_type": "execute_result"
    },
    {
     "data": {
      "image/png": "[encoded data removed]",
      "text/plain": [
       "<Figure size 432x288 with 1 Axes>"
      ]
     },
     "metadata": {
      "needs_background": "light"
     },
     "output_type": "display_data"
    }
   ],
   "source": [
    "df.plot(x='fraud',y='distance_from_last_transaction',kind='scatter')"
   ]
  },
  {
   "cell_type": "code",
   "execution_count": 17,
   "id": "1e03b3e1",
   "metadata": {},
   "outputs": [
    {
     "data": {
      "text/plain": [
       "<AxesSubplot:xlabel='fraud', ylabel='ratio_to_median_purchase_price'>"
      ]
     },
     "execution_count": 17,
     "metadata": {},
     "output_type": "execute_result"
    },
    {
     "data": {
      "image/png": "[encoded data removed]",
      "text/plain": [
       "<Figure size 432x288 with 1 Axes>"
      ]
     },
     "metadata": {
      "needs_background": "light"
     },
     "output_type": "display_data"
    }
   ],
   "source": [
    "df.plot(x='fraud',y='ratio_to_median_purchase_price',kind='scatter')"
   ]
  },
  {
   "cell_type": "code",
   "execution_count": 18,
   "id": "f4897a55",
   "metadata": {},
   "outputs": [
    {
     "data": {
      "text/plain": [
       "(999992, 8)"
      ]
     },
     "execution_count": 18,
     "metadata": {},
     "output_type": "execute_result"
    }
   ],
   "source": [
    "df.shape"
   ]
  },
  {
   "cell_type": "code",
   "execution_count": 19,
   "id": "b9c61650",
   "metadata": {},
   "outputs": [],
   "source": [
    "from sklearn.model_selection import train_test_split"
   ]
  },
  {
   "cell_type": "code",
   "execution_count": 20,
   "id": "d78baf3c",
   "metadata": {},
   "outputs": [],
   "source": [
    "X=df.drop('fraud',axis=1)\n",
    "y=df['fraud']\n",
    "X_train, X_test, y_train, y_test = train_test_split(X, y, test_size=0.2, random_state=101, stratify=y)"
   ]
  },
  {
   "cell_type": "code",
   "execution_count": 21,
   "id": "738f7a31",
   "metadata": {},
   "outputs": [
    {
     "name": "stdout",
     "output_type": "stream",
     "text": [
      "Requirement already satisfied: catboost in c:\\users\\wdytf\\anaconda3\\lib\\site-packages (1.1)\n",
      "Requirement already satisfied: matplotlib in c:\\users\\wdytf\\anaconda3\\lib\\site-packages (from catboost) (3.3.4)\n",
      "Requirement already satisfied: numpy>=1.16.0 in c:\\users\\wdytf\\anaconda3\\lib\\site-packages (from catboost) (1.20.1)\n",
      "Requirement already satisfied: pandas>=0.24.0 in c:\\users\\wdytf\\anaconda3\\lib\\site-packages (from catboost) (1.2.4)\n",
      "Requirement already satisfied: six in c:\\users\\wdytf\\anaconda3\\lib\\site-packages (from catboost) (1.15.0)\n",
      "Requirement already satisfied: graphviz in c:\\users\\wdytf\\anaconda3\\lib\\site-packages (from catboost) (0.20.1)\n",
      "Requirement already satisfied: plotly in c:\\users\\wdytf\\anaconda3\\lib\\site-packages (from catboost) (5.10.0)\n",
      "Requirement already satisfied: scipy in c:\\users\\wdytf\\anaconda3\\lib\\site-packages (from catboost) (1.6.2)\n",
      "Requirement already satisfied: pytz>=2017.3 in c:\\users\\wdytf\\anaconda3\\lib\\site-packages (from pandas>=0.24.0->catboost) (2021.1)\n",
      "Requirement already satisfied: python-dateutil>=2.7.3 in c:\\users\\wdytf\\anaconda3\\lib\\site-packages (from pandas>=0.24.0->catboost) (2.8.1)\n",
      "Requirement already satisfied: pillow>=6.2.0 in c:\\users\\wdytf\\anaconda3\\lib\\site-packages (from matplotlib->catboost) (8.2.0)\n",
      "Requirement already satisfied: kiwisolver>=1.0.1 in c:\\users\\wdytf\\anaconda3\\lib\\site-packages (from matplotlib->catboost) (1.3.1)\n",
      "Requirement already satisfied: pyparsing!=2.0.4,!=2.1.2,!=2.1.6,>=2.0.3 in c:\\users\\wdytf\\anaconda3\\lib\\site-packages (from matplotlib->catboost) (2.4.7)\n",
      "Requirement already satisfied: cycler>=0.10 in c:\\users\\wdytf\\anaconda3\\lib\\site-packages (from matplotlib->catboost) (0.10.0)\n",
      "Requirement already satisfied: tenacity>=6.2.0 in c:\\users\\wdytf\\anaconda3\\lib\\site-packages (from plotly->catboost) (8.1.0)\n",
      "Note: you may need to restart the kernel to use updated packages.\n"
     ]
    }
   ],
   "source": [
    "pip install catboost"
   ]
  },
  {
   "cell_type": "code",
   "execution_count": 22,
   "id": "5b6922fe",
   "metadata": {},
   "outputs": [],
   "source": [
    "import catboost as cb\n",
    "model = cb.CatBoostClassifier(loss_function='Logloss', eval_metric='Accuracy')"
   ]
  },
  {
   "cell_type": "code",
   "execution_count": 23,
   "id": "7bb76c1b",
   "metadata": {},
   "outputs": [],
   "source": [
    "train_dataset = cb.Pool(X_train,y_train)\n",
    "test_dataset = cb.Pool(X_test,y_test)"
   ]
  },
  {
   "cell_type": "code",
   "execution_count": 24,
   "id": "ccdfa1c1",
   "metadata": {},
   "outputs": [
    {
     "name": "stdout",
     "output_type": "stream",
     "text": [
      "0:\tlearn: 0.9812170\ttest: 0.9819124\tbest: 0.9819124 (0)\ttotal: 468ms\tremaining: 22.9s\n",
      "1:\tlearn: 0.9812170\ttest: 0.9819124\tbest: 0.9819124 (0)\ttotal: 542ms\tremaining: 13s\n",
      "2:\tlearn: 0.9812170\ttest: 0.9819124\tbest: 0.9819124 (0)\ttotal: 602ms\tremaining: 9.43s\n",
      "3:\tlearn: 0.9896530\ttest: 0.9899937\tbest: 0.9899937 (3)\ttotal: 661ms\tremaining: 7.6s\n",
      "4:\tlearn: 0.9896530\ttest: 0.9899999\tbest: 0.9899999 (4)\ttotal: 719ms\tremaining: 6.47s\n",
      "5:\tlearn: 0.9896874\ttest: 0.9900374\tbest: 0.9900374 (5)\ttotal: 775ms\tremaining: 5.68s\n",
      "6:\tlearn: 0.9896937\ttest: 0.9900687\tbest: 0.9900687 (6)\ttotal: 836ms\tremaining: 5.13s\n",
      "7:\tlearn: 0.9896937\ttest: 0.9900687\tbest: 0.9900687 (6)\ttotal: 890ms\tremaining: 4.67s\n",
      "8:\tlearn: 0.9896937\ttest: 0.9900687\tbest: 0.9900687 (6)\ttotal: 943ms\tremaining: 4.3s\n",
      "9:\tlearn: 0.9896937\ttest: 0.9900687\tbest: 0.9900687 (6)\ttotal: 1s\tremaining: 4s\n",
      "10:\tlearn: 0.9896983\ttest: 0.9900749\tbest: 0.9900749 (10)\ttotal: 1.05s\tremaining: 3.72s\n",
      "11:\tlearn: 0.9897077\ttest: 0.9900812\tbest: 0.9900812 (11)\ttotal: 1.1s\tremaining: 3.48s\n",
      "12:\tlearn: 0.9897093\ttest: 0.9900749\tbest: 0.9900812 (11)\ttotal: 1.15s\tremaining: 3.27s\n",
      "13:\tlearn: 0.9897093\ttest: 0.9900749\tbest: 0.9900812 (11)\ttotal: 1.2s\tremaining: 3.1s\n",
      "14:\tlearn: 0.9897093\ttest: 0.9900749\tbest: 0.9900812 (11)\ttotal: 1.26s\tremaining: 2.95s\n",
      "15:\tlearn: 0.9897093\ttest: 0.9900687\tbest: 0.9900812 (11)\ttotal: 1.31s\tremaining: 2.79s\n",
      "16:\tlearn: 0.9898265\ttest: 0.9901749\tbest: 0.9901749 (16)\ttotal: 1.38s\tremaining: 2.67s\n",
      "17:\tlearn: 0.9898312\ttest: 0.9901812\tbest: 0.9901812 (17)\ttotal: 1.43s\tremaining: 2.54s\n",
      "18:\tlearn: 0.9905030\ttest: 0.9910374\tbest: 0.9910374 (18)\ttotal: 1.48s\tremaining: 2.41s\n",
      "19:\tlearn: 0.9906202\ttest: 0.9911624\tbest: 0.9911624 (19)\ttotal: 1.54s\tremaining: 2.31s\n",
      "20:\tlearn: 0.9906796\ttest: 0.9912437\tbest: 0.9912437 (20)\ttotal: 1.62s\tremaining: 2.23s\n",
      "21:\tlearn: 0.9909312\ttest: 0.9915749\tbest: 0.9915749 (21)\ttotal: 1.7s\tremaining: 2.17s\n",
      "22:\tlearn: 0.9909312\ttest: 0.9915749\tbest: 0.9915749 (21)\ttotal: 1.79s\tremaining: 2.1s\n",
      "23:\tlearn: 0.9909312\ttest: 0.9915749\tbest: 0.9915749 (21)\ttotal: 1.87s\tremaining: 2.03s\n",
      "24:\tlearn: 0.9909327\ttest: 0.9915749\tbest: 0.9915749 (21)\ttotal: 1.98s\tremaining: 1.98s\n",
      "25:\tlearn: 0.9909327\ttest: 0.9915749\tbest: 0.9915749 (21)\ttotal: 2.08s\tremaining: 1.92s\n",
      "26:\tlearn: 0.9909327\ttest: 0.9915749\tbest: 0.9915749 (21)\ttotal: 2.18s\tremaining: 1.86s\n",
      "27:\tlearn: 0.9909343\ttest: 0.9915749\tbest: 0.9915749 (21)\ttotal: 2.27s\tremaining: 1.79s\n",
      "28:\tlearn: 0.9908874\ttest: 0.9914812\tbest: 0.9915749 (21)\ttotal: 2.36s\tremaining: 1.71s\n",
      "29:\tlearn: 0.9909093\ttest: 0.9915249\tbest: 0.9915749 (21)\ttotal: 2.46s\tremaining: 1.64s\n",
      "30:\tlearn: 0.9910249\ttest: 0.9916499\tbest: 0.9916499 (30)\ttotal: 2.54s\tremaining: 1.55s\n",
      "31:\tlearn: 0.9915405\ttest: 0.9921125\tbest: 0.9921125 (31)\ttotal: 2.64s\tremaining: 1.48s\n",
      "32:\tlearn: 0.9908921\ttest: 0.9915187\tbest: 0.9921125 (31)\ttotal: 2.72s\tremaining: 1.4s\n",
      "33:\tlearn: 0.9914077\ttest: 0.9919812\tbest: 0.9921125 (31)\ttotal: 2.8s\tremaining: 1.32s\n",
      "34:\tlearn: 0.9915280\ttest: 0.9921125\tbest: 0.9921125 (31)\ttotal: 2.89s\tremaining: 1.24s\n",
      "35:\tlearn: 0.9914077\ttest: 0.9919812\tbest: 0.9921125 (31)\ttotal: 2.98s\tremaining: 1.16s\n",
      "36:\tlearn: 0.9914280\ttest: 0.9919749\tbest: 0.9921125 (31)\ttotal: 3.05s\tremaining: 1.07s\n",
      "37:\tlearn: 0.9914249\ttest: 0.9919874\tbest: 0.9921125 (31)\ttotal: 3.14s\tremaining: 992ms\n",
      "38:\tlearn: 0.9915452\ttest: 0.9921187\tbest: 0.9921187 (38)\ttotal: 3.22s\tremaining: 909ms\n",
      "39:\tlearn: 0.9915234\ttest: 0.9921062\tbest: 0.9921187 (38)\ttotal: 3.31s\tremaining: 828ms\n",
      "40:\tlearn: 0.9947843\ttest: 0.9952250\tbest: 0.9952250 (40)\ttotal: 3.4s\tremaining: 747ms\n",
      "41:\tlearn: 0.9915280\ttest: 0.9921125\tbest: 0.9952250 (40)\ttotal: 3.48s\tremaining: 663ms\n",
      "42:\tlearn: 0.9948859\ttest: 0.9952500\tbest: 0.9952500 (42)\ttotal: 3.55s\tremaining: 578ms\n",
      "43:\tlearn: 0.9948859\ttest: 0.9952500\tbest: 0.9952500 (42)\ttotal: 3.62s\tremaining: 494ms\n",
      "44:\tlearn: 0.9948859\ttest: 0.9952500\tbest: 0.9952500 (42)\ttotal: 3.7s\tremaining: 411ms\n",
      "45:\tlearn: 0.9948890\ttest: 0.9952500\tbest: 0.9952500 (42)\ttotal: 3.78s\tremaining: 329ms\n",
      "46:\tlearn: 0.9949406\ttest: 0.9953062\tbest: 0.9953062 (46)\ttotal: 3.87s\tremaining: 247ms\n",
      "47:\tlearn: 0.9954531\ttest: 0.9957937\tbest: 0.9957937 (47)\ttotal: 3.97s\tremaining: 165ms\n",
      "48:\tlearn: 0.9954343\ttest: 0.9957875\tbest: 0.9957937 (47)\ttotal: 4.07s\tremaining: 83.1ms\n",
      "49:\tlearn: 0.9955312\ttest: 0.9959312\tbest: 0.9959312 (49)\ttotal: 4.16s\tremaining: 0us\n",
      "\n",
      "bestTest = 0.9959312246\n",
      "bestIteration = 49\n",
      "\n",
      "0:\tloss: 0.9959312\tbest: 0.9959312 (0)\ttotal: 6.26s\tremaining: 0us\n",
      "Estimating final quality...\n",
      "Training on fold [0/3]\n",
      "0:\tlearn: 0.9810679\ttest: 0.9804661\tbest: 0.9804661 (0)\ttotal: 86.8ms\tremaining: 4.25s\n",
      "1:\tlearn: 0.9810679\ttest: 0.9804661\tbest: 0.9804661 (0)\ttotal: 159ms\tremaining: 3.83s\n",
      "2:\tlearn: 0.9810773\ttest: 0.9804774\tbest: 0.9804774 (2)\ttotal: 225ms\tremaining: 3.52s\n",
      "3:\tlearn: 0.9900830\ttest: 0.9897099\tbest: 0.9897099 (3)\ttotal: 306ms\tremaining: 3.52s\n",
      "4:\tlearn: 0.9902462\ttest: 0.9899349\tbest: 0.9899349 (4)\ttotal: 380ms\tremaining: 3.42s\n",
      "5:\tlearn: 0.9900793\ttest: 0.9897024\tbest: 0.9899349 (4)\ttotal: 444ms\tremaining: 3.25s\n",
      "6:\tlearn: 0.9894343\ttest: 0.9891624\tbest: 0.9899349 (4)\ttotal: 510ms\tremaining: 3.13s\n",
      "7:\tlearn: 0.9894343\ttest: 0.9891624\tbest: 0.9899349 (4)\ttotal: 574ms\tremaining: 3.02s\n",
      "8:\tlearn: 0.9903418\ttest: 0.9900474\tbest: 0.9900474 (8)\ttotal: 645ms\tremaining: 2.94s\n",
      "9:\tlearn: 0.9902462\ttest: 0.9899349\tbest: 0.9900474 (8)\ttotal: 711ms\tremaining: 2.85s\n",
      "10:\tlearn: 0.9902462\ttest: 0.9899349\tbest: 0.9900474 (8)\ttotal: 782ms\tremaining: 2.77s\n",
      "11:\tlearn: 0.9903530\ttest: 0.9900587\tbest: 0.9900587 (11)\ttotal: 847ms\tremaining: 2.68s\n",
      "12:\tlearn: 0.9903530\ttest: 0.9900587\tbest: 0.9900587 (11)\ttotal: 913ms\tremaining: 2.6s\n",
      "13:\tlearn: 0.9903568\ttest: 0.9900662\tbest: 0.9900662 (13)\ttotal: 984ms\tremaining: 2.53s\n",
      "14:\tlearn: 0.9903568\ttest: 0.9900662\tbest: 0.9900662 (13)\ttotal: 1.05s\tremaining: 2.44s\n",
      "15:\tlearn: 0.9903568\ttest: 0.9900662\tbest: 0.9900662 (13)\ttotal: 1.12s\tremaining: 2.39s\n",
      "16:\tlearn: 0.9904262\ttest: 0.9901187\tbest: 0.9901187 (16)\ttotal: 1.2s\tremaining: 2.32s\n",
      "17:\tlearn: 0.9897943\ttest: 0.9896087\tbest: 0.9901187 (16)\ttotal: 1.27s\tremaining: 2.26s\n",
      "18:\tlearn: 0.9906662\ttest: 0.9903662\tbest: 0.9903662 (18)\ttotal: 1.34s\tremaining: 2.19s\n",
      "19:\tlearn: 0.9908405\ttest: 0.9904712\tbest: 0.9904712 (19)\ttotal: 1.42s\tremaining: 2.13s\n",
      "20:\tlearn: 0.9909455\ttest: 0.9905987\tbest: 0.9905987 (20)\ttotal: 1.5s\tremaining: 2.07s\n",
      "21:\tlearn: 0.9909455\ttest: 0.9905987\tbest: 0.9905987 (20)\ttotal: 1.57s\tremaining: 2s\n",
      "22:\tlearn: 0.9909455\ttest: 0.9905987\tbest: 0.9905987 (20)\ttotal: 1.64s\tremaining: 1.92s\n",
      "23:\tlearn: 0.9909455\ttest: 0.9905987\tbest: 0.9905987 (20)\ttotal: 1.7s\tremaining: 1.84s\n",
      "24:\tlearn: 0.9909493\ttest: 0.9906212\tbest: 0.9906212 (24)\ttotal: 1.77s\tremaining: 1.77s\n",
      "25:\tlearn: 0.9909512\ttest: 0.9906249\tbest: 0.9906249 (25)\ttotal: 1.84s\tremaining: 1.7s\n",
      "26:\tlearn: 0.9909512\ttest: 0.9906249\tbest: 0.9906249 (25)\ttotal: 1.9s\tremaining: 1.61s\n",
      "27:\tlearn: 0.9909474\ttest: 0.9906174\tbest: 0.9906249 (25)\ttotal: 1.96s\tremaining: 1.54s\n",
      "28:\tlearn: 0.9909380\ttest: 0.9906174\tbest: 0.9906249 (25)\ttotal: 2.02s\tremaining: 1.46s\n",
      "29:\tlearn: 0.9909568\ttest: 0.9906249\tbest: 0.9906249 (25)\ttotal: 2.09s\tremaining: 1.39s\n",
      "30:\tlearn: 0.9909830\ttest: 0.9906362\tbest: 0.9906362 (30)\ttotal: 2.16s\tremaining: 1.32s\n",
      "31:\tlearn: 0.9909568\ttest: 0.9906249\tbest: 0.9906362 (30)\ttotal: 2.22s\tremaining: 1.25s\n",
      "32:\tlearn: 0.9947274\ttest: 0.9945737\tbest: 0.9945737 (32)\ttotal: 2.29s\tremaining: 1.18s\n",
      "33:\tlearn: 0.9909568\ttest: 0.9906024\tbest: 0.9945737 (32)\ttotal: 2.36s\tremaining: 1.11s\n",
      "34:\tlearn: 0.9952843\ttest: 0.9951475\tbest: 0.9951475 (34)\ttotal: 2.42s\tremaining: 1.04s\n",
      "35:\tlearn: 0.9953087\ttest: 0.9951587\tbest: 0.9951587 (35)\ttotal: 2.5s\tremaining: 970ms\n",
      "36:\tlearn: 0.9953050\ttest: 0.9951325\tbest: 0.9951587 (35)\ttotal: 2.57s\tremaining: 902ms\n",
      "37:\tlearn: 0.9953050\ttest: 0.9951325\tbest: 0.9951587 (35)\ttotal: 2.63s\tremaining: 831ms\n",
      "38:\tlearn: 0.9953087\ttest: 0.9951362\tbest: 0.9951587 (35)\ttotal: 2.69s\tremaining: 760ms\n",
      "39:\tlearn: 0.9953087\ttest: 0.9951362\tbest: 0.9951587 (35)\ttotal: 2.76s\tremaining: 690ms\n",
      "40:\tlearn: 0.9953087\ttest: 0.9951362\tbest: 0.9951587 (35)\ttotal: 2.82s\tremaining: 620ms\n",
      "41:\tlearn: 0.9953087\ttest: 0.9951362\tbest: 0.9951587 (35)\ttotal: 2.88s\tremaining: 549ms\n",
      "42:\tlearn: 0.9952993\ttest: 0.9951325\tbest: 0.9951587 (35)\ttotal: 2.94s\tremaining: 479ms\n",
      "43:\tlearn: 0.9954700\ttest: 0.9952862\tbest: 0.9952862 (43)\ttotal: 3s\tremaining: 409ms\n",
      "44:\tlearn: 0.9955787\ttest: 0.9954025\tbest: 0.9954025 (44)\ttotal: 3.05s\tremaining: 339ms\n",
      "45:\tlearn: 0.9955918\ttest: 0.9954175\tbest: 0.9954175 (45)\ttotal: 3.11s\tremaining: 271ms\n"
     ]
    },
    {
     "name": "stdout",
     "output_type": "stream",
     "text": [
      "46:\tlearn: 0.9955918\ttest: 0.9954175\tbest: 0.9954175 (45)\ttotal: 3.18s\tremaining: 203ms\n",
      "47:\tlearn: 0.9955768\ttest: 0.9954025\tbest: 0.9954175 (45)\ttotal: 3.25s\tremaining: 135ms\n",
      "48:\tlearn: 0.9955768\ttest: 0.9954025\tbest: 0.9954175 (45)\ttotal: 3.32s\tremaining: 67.7ms\n",
      "49:\tlearn: 0.9955825\ttest: 0.9954025\tbest: 0.9954175 (45)\ttotal: 3.38s\tremaining: 0us\n",
      "\n",
      "bestTest = 0.9954174714\n",
      "bestIteration = 45\n",
      "\n",
      "Training on fold [1/3]\n",
      "0:\tlearn: 0.9802392\ttest: 0.9804548\tbest: 0.9804548 (0)\ttotal: 70ms\tremaining: 3.43s\n",
      "1:\tlearn: 0.9820017\ttest: 0.9821836\tbest: 0.9821836 (1)\ttotal: 140ms\tremaining: 3.36s\n",
      "2:\tlearn: 0.9910337\ttest: 0.9910637\tbest: 0.9910637 (2)\ttotal: 200ms\tremaining: 3.13s\n",
      "3:\tlearn: 0.9910637\ttest: 0.9910824\tbest: 0.9910824 (3)\ttotal: 264ms\tremaining: 3.04s\n",
      "4:\tlearn: 0.9910637\ttest: 0.9910824\tbest: 0.9910824 (3)\ttotal: 326ms\tremaining: 2.93s\n",
      "5:\tlearn: 0.9910637\ttest: 0.9910824\tbest: 0.9910824 (3)\ttotal: 381ms\tremaining: 2.79s\n",
      "6:\tlearn: 0.9910637\ttest: 0.9910824\tbest: 0.9910824 (3)\ttotal: 436ms\tremaining: 2.68s\n",
      "7:\tlearn: 0.9910637\ttest: 0.9910824\tbest: 0.9910824 (3)\ttotal: 494ms\tremaining: 2.59s\n",
      "8:\tlearn: 0.9910637\ttest: 0.9910824\tbest: 0.9910824 (3)\ttotal: 551ms\tremaining: 2.51s\n",
      "9:\tlearn: 0.9910637\ttest: 0.9910824\tbest: 0.9910824 (3)\ttotal: 609ms\tremaining: 2.43s\n",
      "10:\tlearn: 0.9910637\ttest: 0.9910824\tbest: 0.9910824 (3)\ttotal: 678ms\tremaining: 2.4s\n",
      "11:\tlearn: 0.9910637\ttest: 0.9910824\tbest: 0.9910824 (3)\ttotal: 749ms\tremaining: 2.37s\n",
      "12:\tlearn: 0.9910637\ttest: 0.9910824\tbest: 0.9910824 (3)\ttotal: 816ms\tremaining: 2.32s\n",
      "13:\tlearn: 0.9910637\ttest: 0.9910824\tbest: 0.9910824 (3)\ttotal: 882ms\tremaining: 2.27s\n",
      "14:\tlearn: 0.9910637\ttest: 0.9910824\tbest: 0.9910824 (3)\ttotal: 950ms\tremaining: 2.21s\n",
      "15:\tlearn: 0.9910693\ttest: 0.9910937\tbest: 0.9910937 (15)\ttotal: 1.02s\tremaining: 2.16s\n",
      "16:\tlearn: 0.9910637\ttest: 0.9910824\tbest: 0.9910937 (15)\ttotal: 1.08s\tremaining: 2.1s\n",
      "17:\tlearn: 0.9911274\ttest: 0.9911724\tbest: 0.9911724 (17)\ttotal: 1.15s\tremaining: 2.04s\n",
      "18:\tlearn: 0.9912418\ttest: 0.9913074\tbest: 0.9913074 (18)\ttotal: 1.21s\tremaining: 1.98s\n",
      "19:\tlearn: 0.9916356\ttest: 0.9916487\tbest: 0.9916487 (19)\ttotal: 1.28s\tremaining: 1.92s\n",
      "20:\tlearn: 0.9916393\ttest: 0.9916562\tbest: 0.9916562 (20)\ttotal: 1.35s\tremaining: 1.86s\n",
      "21:\tlearn: 0.9916468\ttest: 0.9916599\tbest: 0.9916599 (21)\ttotal: 1.42s\tremaining: 1.8s\n",
      "22:\tlearn: 0.9916749\ttest: 0.9916637\tbest: 0.9916637 (22)\ttotal: 1.49s\tremaining: 1.75s\n",
      "23:\tlearn: 0.9916749\ttest: 0.9916637\tbest: 0.9916637 (22)\ttotal: 1.56s\tremaining: 1.69s\n",
      "24:\tlearn: 0.9916768\ttest: 0.9916637\tbest: 0.9916637 (22)\ttotal: 1.63s\tremaining: 1.63s\n",
      "25:\tlearn: 0.9916768\ttest: 0.9916674\tbest: 0.9916674 (25)\ttotal: 1.7s\tremaining: 1.57s\n",
      "26:\tlearn: 0.9916768\ttest: 0.9916674\tbest: 0.9916674 (25)\ttotal: 1.76s\tremaining: 1.5s\n",
      "27:\tlearn: 0.9916768\ttest: 0.9916674\tbest: 0.9916674 (25)\ttotal: 1.83s\tremaining: 1.44s\n",
      "28:\tlearn: 0.9922468\ttest: 0.9922749\tbest: 0.9922749 (28)\ttotal: 1.9s\tremaining: 1.37s\n",
      "29:\tlearn: 0.9961131\ttest: 0.9959425\tbest: 0.9959425 (29)\ttotal: 1.96s\tremaining: 1.31s\n",
      "30:\tlearn: 0.9961262\ttest: 0.9959687\tbest: 0.9959687 (30)\ttotal: 2.03s\tremaining: 1.24s\n",
      "31:\tlearn: 0.9961262\ttest: 0.9959687\tbest: 0.9959687 (30)\ttotal: 2.1s\tremaining: 1.18s\n",
      "32:\tlearn: 0.9961375\ttest: 0.9959800\tbest: 0.9959800 (32)\ttotal: 2.16s\tremaining: 1.11s\n",
      "33:\tlearn: 0.9955412\ttest: 0.9954175\tbest: 0.9959800 (32)\ttotal: 2.23s\tremaining: 1.05s\n",
      "34:\tlearn: 0.9961375\ttest: 0.9959837\tbest: 0.9959837 (34)\ttotal: 2.3s\tremaining: 984ms\n",
      "35:\tlearn: 0.9961393\ttest: 0.9959950\tbest: 0.9959950 (35)\ttotal: 2.36s\tremaining: 919ms\n",
      "36:\tlearn: 0.9962593\ttest: 0.9961037\tbest: 0.9961037 (36)\ttotal: 2.43s\tremaining: 853ms\n",
      "37:\tlearn: 0.9962593\ttest: 0.9961037\tbest: 0.9961037 (36)\ttotal: 2.49s\tremaining: 786ms\n",
      "38:\tlearn: 0.9962593\ttest: 0.9961037\tbest: 0.9961037 (36)\ttotal: 2.55s\tremaining: 720ms\n",
      "39:\tlearn: 0.9962593\ttest: 0.9961037\tbest: 0.9961037 (36)\ttotal: 2.62s\tremaining: 655ms\n",
      "40:\tlearn: 0.9962593\ttest: 0.9961037\tbest: 0.9961037 (36)\ttotal: 2.68s\tremaining: 589ms\n",
      "41:\tlearn: 0.9961393\ttest: 0.9959950\tbest: 0.9961037 (36)\ttotal: 2.74s\tremaining: 522ms\n",
      "42:\tlearn: 0.9962575\ttest: 0.9961075\tbest: 0.9961075 (42)\ttotal: 2.81s\tremaining: 457ms\n",
      "43:\tlearn: 0.9962575\ttest: 0.9961075\tbest: 0.9961075 (42)\ttotal: 2.88s\tremaining: 393ms\n",
      "44:\tlearn: 0.9962593\ttest: 0.9961037\tbest: 0.9961075 (42)\ttotal: 2.94s\tremaining: 327ms\n",
      "45:\tlearn: 0.9963043\ttest: 0.9961712\tbest: 0.9961712 (45)\ttotal: 3.01s\tremaining: 261ms\n",
      "46:\tlearn: 0.9964131\ttest: 0.9962762\tbest: 0.9962762 (46)\ttotal: 3.07s\tremaining: 196ms\n",
      "47:\tlearn: 0.9964093\ttest: 0.9962725\tbest: 0.9962762 (46)\ttotal: 3.13s\tremaining: 130ms\n",
      "48:\tlearn: 0.9964131\ttest: 0.9962762\tbest: 0.9962762 (46)\ttotal: 3.19s\tremaining: 65.2ms\n",
      "49:\tlearn: 0.9964131\ttest: 0.9962762\tbest: 0.9962762 (46)\ttotal: 3.26s\tremaining: 0us\n",
      "\n",
      "bestTest = 0.9962762128\n",
      "bestIteration = 46\n",
      "\n",
      "Training on fold [2/3]\n",
      "0:\tlearn: 0.9804492\ttest: 0.9808598\tbest: 0.9808598 (0)\ttotal: 80.4ms\tremaining: 3.94s\n",
      "1:\tlearn: 0.9804492\ttest: 0.9808598\tbest: 0.9808598 (0)\ttotal: 149ms\tremaining: 3.59s\n",
      "2:\tlearn: 0.9804586\ttest: 0.9808711\tbest: 0.9808711 (2)\ttotal: 214ms\tremaining: 3.35s\n",
      "3:\tlearn: 0.9896518\ttest: 0.9900024\tbest: 0.9900024 (3)\ttotal: 282ms\tremaining: 3.25s\n",
      "4:\tlearn: 0.9898318\ttest: 0.9901937\tbest: 0.9901937 (4)\ttotal: 353ms\tremaining: 3.18s\n",
      "5:\tlearn: 0.9896462\ttest: 0.9899986\tbest: 0.9901937 (4)\ttotal: 428ms\tremaining: 3.13s\n",
      "6:\tlearn: 0.9892243\ttest: 0.9894361\tbest: 0.9901937 (4)\ttotal: 504ms\tremaining: 3.1s\n",
      "7:\tlearn: 0.9892299\ttest: 0.9894399\tbest: 0.9901937 (4)\ttotal: 571ms\tremaining: 3s\n",
      "8:\tlearn: 0.9900024\ttest: 0.9903174\tbest: 0.9903174 (8)\ttotal: 640ms\tremaining: 2.92s\n",
      "9:\tlearn: 0.9894249\ttest: 0.9896386\tbest: 0.9903174 (8)\ttotal: 712ms\tremaining: 2.85s\n",
      "10:\tlearn: 0.9895937\ttest: 0.9897661\tbest: 0.9903174 (8)\ttotal: 788ms\tremaining: 2.79s\n",
      "11:\tlearn: 0.9896105\ttest: 0.9897736\tbest: 0.9903174 (8)\ttotal: 860ms\tremaining: 2.72s\n",
      "12:\tlearn: 0.9896218\ttest: 0.9897774\tbest: 0.9903174 (8)\ttotal: 935ms\tremaining: 2.66s\n",
      "13:\tlearn: 0.9896162\ttest: 0.9897774\tbest: 0.9903174 (8)\ttotal: 1.01s\tremaining: 2.6s\n",
      "14:\tlearn: 0.9896218\ttest: 0.9897774\tbest: 0.9903174 (8)\ttotal: 1.08s\tremaining: 2.52s\n",
      "15:\tlearn: 0.9896218\ttest: 0.9897774\tbest: 0.9903174 (8)\ttotal: 1.16s\tremaining: 2.46s\n",
      "16:\tlearn: 0.9897455\ttest: 0.9899011\tbest: 0.9903174 (8)\ttotal: 1.23s\tremaining: 2.39s\n",
      "17:\tlearn: 0.9899893\ttest: 0.9902349\tbest: 0.9903174 (8)\ttotal: 1.3s\tremaining: 2.31s\n",
      "18:\tlearn: 0.9899930\ttest: 0.9902387\tbest: 0.9903174 (8)\ttotal: 1.37s\tremaining: 2.23s\n",
      "19:\tlearn: 0.9901824\ttest: 0.9903924\tbest: 0.9903924 (19)\ttotal: 1.44s\tremaining: 2.16s\n",
      "20:\tlearn: 0.9901843\ttest: 0.9903962\tbest: 0.9903962 (20)\ttotal: 1.5s\tremaining: 2.08s\n",
      "21:\tlearn: 0.9901824\ttest: 0.9903924\tbest: 0.9903962 (20)\ttotal: 1.58s\tremaining: 2.01s\n",
      "22:\tlearn: 0.9903587\ttest: 0.9905349\tbest: 0.9905349 (22)\ttotal: 1.66s\tremaining: 1.94s\n",
      "23:\tlearn: 0.9903605\ttest: 0.9905387\tbest: 0.9905387 (23)\ttotal: 1.73s\tremaining: 1.88s\n",
      "24:\tlearn: 0.9903605\ttest: 0.9905387\tbest: 0.9905387 (23)\ttotal: 1.8s\tremaining: 1.8s\n",
      "25:\tlearn: 0.9903568\ttest: 0.9905349\tbest: 0.9905387 (23)\ttotal: 1.87s\tremaining: 1.73s\n",
      "26:\tlearn: 0.9903549\ttest: 0.9905312\tbest: 0.9905387 (23)\ttotal: 1.94s\tremaining: 1.65s\n",
      "27:\tlearn: 0.9903549\ttest: 0.9905312\tbest: 0.9905387 (23)\ttotal: 2s\tremaining: 1.57s\n",
      "28:\tlearn: 0.9903399\ttest: 0.9905274\tbest: 0.9905387 (23)\ttotal: 2.07s\tremaining: 1.5s\n",
      "29:\tlearn: 0.9903437\ttest: 0.9905274\tbest: 0.9905387 (23)\ttotal: 2.14s\tremaining: 1.43s\n",
      "30:\tlearn: 0.9909362\ttest: 0.9910937\tbest: 0.9910937 (30)\ttotal: 2.21s\tremaining: 1.35s\n",
      "31:\tlearn: 0.9903512\ttest: 0.9905312\tbest: 0.9910937 (30)\ttotal: 2.28s\tremaining: 1.28s\n",
      "32:\tlearn: 0.9909362\ttest: 0.9910937\tbest: 0.9910937 (30)\ttotal: 2.34s\tremaining: 1.21s\n",
      "33:\tlearn: 0.9909324\ttest: 0.9910899\tbest: 0.9910937 (30)\ttotal: 2.41s\tremaining: 1.14s\n",
      "34:\tlearn: 0.9903474\ttest: 0.9905274\tbest: 0.9910937 (30)\ttotal: 2.48s\tremaining: 1.06s\n",
      "35:\tlearn: 0.9909418\ttest: 0.9910899\tbest: 0.9910937 (30)\ttotal: 2.54s\tremaining: 989ms\n",
      "36:\tlearn: 0.9909418\ttest: 0.9910899\tbest: 0.9910937 (30)\ttotal: 2.6s\tremaining: 913ms\n",
      "37:\tlearn: 0.9909418\ttest: 0.9910899\tbest: 0.9910937 (30)\ttotal: 2.66s\tremaining: 840ms\n",
      "38:\tlearn: 0.9947818\ttest: 0.9949449\tbest: 0.9949449 (38)\ttotal: 2.72s\tremaining: 768ms\n",
      "39:\tlearn: 0.9947893\ttest: 0.9949487\tbest: 0.9949487 (39)\ttotal: 2.79s\tremaining: 698ms\n",
      "40:\tlearn: 0.9947893\ttest: 0.9949487\tbest: 0.9949487 (39)\ttotal: 2.85s\tremaining: 626ms\n"
     ]
    },
    {
     "name": "stdout",
     "output_type": "stream",
     "text": [
      "41:\tlearn: 0.9947893\ttest: 0.9949487\tbest: 0.9949487 (39)\ttotal: 2.92s\tremaining: 556ms\n",
      "42:\tlearn: 0.9947893\ttest: 0.9949487\tbest: 0.9949487 (39)\ttotal: 2.98s\tremaining: 486ms\n",
      "43:\tlearn: 0.9948587\ttest: 0.9949824\tbest: 0.9949824 (43)\ttotal: 3.04s\tremaining: 415ms\n",
      "44:\tlearn: 0.9948418\ttest: 0.9949749\tbest: 0.9949824 (43)\ttotal: 3.1s\tremaining: 345ms\n",
      "45:\tlearn: 0.9948587\ttest: 0.9949824\tbest: 0.9949824 (43)\ttotal: 3.17s\tremaining: 275ms\n",
      "46:\tlearn: 0.9948418\ttest: 0.9949749\tbest: 0.9949824 (43)\ttotal: 3.24s\tremaining: 207ms\n",
      "47:\tlearn: 0.9948418\ttest: 0.9949749\tbest: 0.9949824 (43)\ttotal: 3.3s\tremaining: 138ms\n",
      "48:\tlearn: 0.9948418\ttest: 0.9949749\tbest: 0.9949824 (43)\ttotal: 3.37s\tremaining: 68.7ms\n",
      "49:\tlearn: 0.9949450\ttest: 0.9951062\tbest: 0.9951062 (49)\ttotal: 3.43s\tremaining: 0us\n",
      "\n",
      "bestTest = 0.9951062011\n",
      "bestIteration = 49\n",
      "\n"
     ]
    },
    {
     "data": {
      "text/plain": [
       "{'params': {'depth': 4,\n",
       "  'l2_leaf_reg': 1,\n",
       "  'iterations': 50,\n",
       "  'learning_rate': 0.03},\n",
       " 'cv_results': defaultdict(list,\n",
       "             {'iterations': [0,\n",
       "               1,\n",
       "               2,\n",
       "               3,\n",
       "               4,\n",
       "               5,\n",
       "               6,\n",
       "               7,\n",
       "               8,\n",
       "               9,\n",
       "               10,\n",
       "               11,\n",
       "               12,\n",
       "               13,\n",
       "               14,\n",
       "               15,\n",
       "               16,\n",
       "               17,\n",
       "               18,\n",
       "               19,\n",
       "               20,\n",
       "               21,\n",
       "               22,\n",
       "               23,\n",
       "               24,\n",
       "               25,\n",
       "               26,\n",
       "               27,\n",
       "               28,\n",
       "               29,\n",
       "               30,\n",
       "               31,\n",
       "               32,\n",
       "               33,\n",
       "               34,\n",
       "               35,\n",
       "               36,\n",
       "               37,\n",
       "               38,\n",
       "               39,\n",
       "               40,\n",
       "               41,\n",
       "               42,\n",
       "               43,\n",
       "               44,\n",
       "               45,\n",
       "               46,\n",
       "               47,\n",
       "               48,\n",
       "               49],\n",
       "              'test-Accuracy-mean': [0.9805935803531436,\n",
       "               0.9811698361157012,\n",
       "               0.9841373657769353,\n",
       "               0.9902649155117356,\n",
       "               0.9904036666179948,\n",
       "               0.9902611654836102,\n",
       "               0.9898936624835845,\n",
       "               0.9898949124960845,\n",
       "               0.9904824172648753,\n",
       "               0.9902186647679763,\n",
       "               0.9902611651929806,\n",
       "               0.9903049154757949,\n",
       "               0.9903061654882951,\n",
       "               0.9903086655039202,\n",
       "               0.9903086655039202,\n",
       "               0.9903124155414206,\n",
       "               0.9903674160257999,\n",
       "               0.9903386663758074,\n",
       "               0.9906374184164468,\n",
       "               0.9908374202852149,\n",
       "               0.9908836705883418,\n",
       "               0.9908836705883418,\n",
       "               0.9909324210758467,\n",
       "               0.9909336710883467,\n",
       "               0.9909411711352222,\n",
       "               0.9909424211430347,\n",
       "               0.9909411711305345,\n",
       "               0.9909386711149094,\n",
       "               0.9911399231274296,\n",
       "               0.9923649353681769,\n",
       "               0.9925661873666343,\n",
       "               0.9923749354681779,\n",
       "               0.9938824456073109,\n",
       "               0.9923699354463028,\n",
       "               0.9938861949276122,\n",
       "               0.994081196863569,\n",
       "               0.9941086971713848,\n",
       "               0.9941086971713848,\n",
       "               0.9953949600293258,\n",
       "               0.995396210041826,\n",
       "               0.995396210041826,\n",
       "               0.9953599596793223,\n",
       "               0.9953962100465135,\n",
       "               0.9954587104793292,\n",
       "               0.9954937106840177,\n",
       "               0.9955237109652705,\n",
       "               0.9955562112902738,\n",
       "               0.9955499612465234,\n",
       "               0.9955512112590235,\n",
       "               0.995594961696528],\n",
       "              'test-Accuracy-std': [0.00023062992748986132,\n",
       "               0.0008997172905543348,\n",
       "               0.006001576167226981,\n",
       "               0.0007229161683095802,\n",
       "               0.0006018750829844743,\n",
       "               0.0007264768865574803,\n",
       "               0.0010385429893513048,\n",
       "               0.0010377189013453245,\n",
       "               0.0005368561535541754,\n",
       "               0.0007625549048169463,\n",
       "               0.0007162092976660552,\n",
       "               0.0006882486697844512,\n",
       "               0.000686803206973159,\n",
       "               0.0006854642963577162,\n",
       "               0.0006854642963577162,\n",
       "               0.0006918151572669436,\n",
       "               0.0006286843408158361,\n",
       "               0.0007870104855906395,\n",
       "               0.0005837260301127625,\n",
       "               0.0007036633630467551,\n",
       "               0.0006766223903160765,\n",
       "               0.0006801154434062092,\n",
       "               0.0006340798157116145,\n",
       "               0.0006329069452962187,\n",
       "               0.0006270588966436096,\n",
       "               0.0006294763800202897,\n",
       "               0.0006306927937646353,\n",
       "               0.0006325850836837967,\n",
       "               0.0009839688665092875,\n",
       "               0.00309861051197739,\n",
       "               0.0029555351770426995,\n",
       "               0.0031126530179731303,\n",
       "               0.002515426464907424,\n",
       "               0.002650459292312697,\n",
       "               0.0029386944986177295,\n",
       "               0.002624055680065416,\n",
       "               0.0026590657026981587,\n",
       "               0.0026590657026981587,\n",
       "               0.0006212021096443423,\n",
       "               0.0006198461035373467,\n",
       "               0.0006198461035373467,\n",
       "               0.0005578619504529492,\n",
       "               0.0006227771514017816,\n",
       "               0.0005820027172509413,\n",
       "               0.0005698850627358297,\n",
       "               0.0006014597632326886,\n",
       "               0.0006616327783343174,\n",
       "               0.0006612109731744173,\n",
       "               0.000663260164850119,\n",
       "               0.0006082937359092192],\n",
       "              'train-Accuracy-mean': [0.9805854554242851,\n",
       "               0.9811729601977613,\n",
       "               0.9841898597159293,\n",
       "               0.9902661647144795,\n",
       "               0.9903805407457389,\n",
       "               0.9902630396867448,\n",
       "               0.9899074113941358,\n",
       "               0.9899092864093705,\n",
       "               0.9904692915266051,\n",
       "               0.9902449146437767,\n",
       "               0.9903011651008118,\n",
       "               0.9903424155027688,\n",
       "               0.9903461655332378,\n",
       "               0.9903455405305035,\n",
       "               0.9903474155457378,\n",
       "               0.9903492905609724,\n",
       "               0.9904117911121492,\n",
       "               0.9903036648386975,\n",
       "               0.9906336680649009,\n",
       "               0.9908861702254664,\n",
       "               0.9909230455907044,\n",
       "               0.9909249206059391,\n",
       "               0.990993046159459,\n",
       "               0.9909936711645372,\n",
       "               0.9909955461821155,\n",
       "               0.9909949211782093,\n",
       "               0.9909942961731311,\n",
       "               0.990993046160631,\n",
       "               0.9911749226325179,\n",
       "               0.9924711831763536,\n",
       "               0.9926818099041023,\n",
       "               0.9924780582322135,\n",
       "               0.9939336974159461,\n",
       "               0.9924768082220572,\n",
       "               0.9939230726776703,\n",
       "               0.9941299493737782,\n",
       "               0.9941686996862806,\n",
       "               0.9941686996862806,\n",
       "               0.9954499600988652,\n",
       "               0.995452460119178,\n",
       "               0.995452460119178,\n",
       "               0.9954124597941753,\n",
       "               0.9954487100828494,\n",
       "               0.9955287108394972,\n",
       "               0.9955599611613755,\n",
       "               0.9955849613727055,\n",
       "               0.9956155866215356,\n",
       "               0.9956093365613787,\n",
       "               0.9956105865715351,\n",
       "               0.9956468368695844],\n",
       "              'train-Accuracy-std': [0.0004308312622813472,\n",
       "               0.0007815666743054971,\n",
       "               0.005934987890345339,\n",
       "               0.000723540420668556,\n",
       "               0.0006268415486314876,\n",
       "               0.0007264031951719734,\n",
       "               0.001006844771111212,\n",
       "               0.00100493996673355,\n",
       "               0.000541998303289444,\n",
       "               0.0008193823587023651,\n",
       "               0.0007365484177053169,\n",
       "               0.0007266265354622768,\n",
       "               0.0007209678567781608,\n",
       "               0.0007238213140642252,\n",
       "               0.0007209889559468574,\n",
       "               0.000723784931638398,\n",
       "               0.0006591852262016648,\n",
       "               0.0007200329638293356,\n",
       "               0.0006250136857337725,\n",
       "               0.0007276425525537657,\n",
       "               0.0007277665575536424,\n",
       "               0.0007324110491753271,\n",
       "               0.0006594153285828543,\n",
       "               0.0006585136943307701,\n",
       "               0.0006593486649488502,\n",
       "               0.000661092573838875,\n",
       "               0.0006619977766524531,\n",
       "               0.0006621234839400733,\n",
       "               0.000975266564355499,\n",
       "               0.0031688498791358796,\n",
       "               0.0029830373770111497,\n",
       "               0.0031738772676317786,\n",
       "               0.002689960859049169,\n",
       "               0.002653881000259983,\n",
       "               0.003125847551103056,\n",
       "               0.0027920792513140536,\n",
       "               0.0028350256107282966,\n",
       "               0.0028350256107282966,\n",
       "               0.0007488161247029869,\n",
       "               0.0007454752457204678,\n",
       "               0.0007454752457204678,\n",
       "               0.0006809599802518342,\n",
       "               0.0007453809541449446,\n",
       "               0.0007012293148434347,\n",
       "               0.0007089416380423089,\n",
       "               0.0007228428551167705,\n",
       "               0.000785900706471237,\n",
       "               0.0007842617639220426,\n",
       "               0.0007861750829451398,\n",
       "               0.0007361828573852524],\n",
       "              'test-Logloss-mean': [0.6019729670666057,\n",
       "               0.5241797444200123,\n",
       "               0.4623111288694579,\n",
       "               0.4078627125772693,\n",
       "               0.36327437513220456,\n",
       "               0.3250546992047816,\n",
       "               0.29173809954158286,\n",
       "               0.26280686037433815,\n",
       "               0.23610320927713888,\n",
       "               0.2160053280347131,\n",
       "               0.1888619928933176,\n",
       "               0.17141887670854075,\n",
       "               0.15365368569033133,\n",
       "               0.14202423121192176,\n",
       "               0.13434492416810642,\n",
       "               0.12691765829013707,\n",
       "               0.1167373310180619,\n",
       "               0.10789339615669237,\n",
       "               0.10431632448046864,\n",
       "               0.09535385371032057,\n",
       "               0.09251190621288025,\n",
       "               0.08942159290316776,\n",
       "               0.0857150375043297,\n",
       "               0.08339493942635091,\n",
       "               0.08078699019972811,\n",
       "               0.07826712206179452,\n",
       "               0.07305331640302364,\n",
       "               0.07144676053898112,\n",
       "               0.06945086991763022,\n",
       "               0.06744378360479975,\n",
       "               0.06610000559904461,\n",
       "               0.06389814156471572,\n",
       "               0.06263854574634338,\n",
       "               0.06048193527234761,\n",
       "               0.05862104627519995,\n",
       "               0.05733050733567111,\n",
       "               0.05583920908563236,\n",
       "               0.054717050118167965,\n",
       "               0.05345458728641253,\n",
       "               0.05225625129554081,\n",
       "               0.05096549589400784,\n",
       "               0.04971468518961128,\n",
       "               0.04880718227008798,\n",
       "               0.048035295250658194,\n",
       "               0.04697089181823436,\n",
       "               0.04624671470821607,\n",
       "               0.04511506228442702,\n",
       "               0.04399795123052865,\n",
       "               0.04291369691907317,\n",
       "               0.042103448048636645],\n",
       "              'test-Logloss-std': [0.0003285089715642321,\n",
       "               0.0002442363608689451,\n",
       "               0.0002108821702577234,\n",
       "               0.0018869044858020741,\n",
       "               0.0024939921139786113,\n",
       "               0.00395757988628862,\n",
       "               0.004912958338059331,\n",
       "               0.003730489940639036,\n",
       "               0.00977318539443675,\n",
       "               0.006921739512833169,\n",
       "               0.008620351612044845,\n",
       "               0.005970668510720695,\n",
       "               0.012512840156391591,\n",
       "               0.0099439767834429,\n",
       "               0.009615597101278425,\n",
       "               0.008361107205362149,\n",
       "               0.008609204791114194,\n",
       "               0.007302844860332305,\n",
       "               0.006962891558829671,\n",
       "               0.0008199880764823411,\n",
       "               0.0009010747879744487,\n",
       "               0.001314459771221494,\n",
       "               0.0012979298436640158,\n",
       "               0.0014906981010759236,\n",
       "               0.0013825052575065107,\n",
       "               0.0009160124401258438,\n",
       "               0.0037167300523141384,\n",
       "               0.0035192732093885922,\n",
       "               0.0029551386493195746,\n",
       "               0.002731282132036782,\n",
       "               0.0025984130195994106,\n",
       "               0.0023397671207517354,\n",
       "               0.0022401123955119373,\n",
       "               0.0020338771428950325,\n",
       "               0.0017567846995192643,\n",
       "               0.0013822549809620343,\n",
       "               0.0014846217458855746,\n",
       "               0.0011517017996662562,\n",
       "               0.0016087439716149176,\n",
       "               0.001369251142875183,\n",
       "               0.001955801268619338,\n",
       "               0.0017687525575030402,\n",
       "               0.0017167718882802035,\n",
       "               0.0016845802066825012,\n",
       "               0.0016417888624274493,\n",
       "               0.0015817168737091868,\n",
       "               0.0014672328236786671,\n",
       "               0.0014941635984496316,\n",
       "               0.0017820447321493533,\n",
       "               0.001877374720063431],\n",
       "              'train-Logloss-mean': [0.6019744442023013,\n",
       "               0.524186750557606,\n",
       "               0.4622915747778536,\n",
       "               0.4078496184949247,\n",
       "               0.36328743140810954,\n",
       "               0.32506556698102845,\n",
       "               0.2917506417710634,\n",
       "               0.26280458214991437,\n",
       "               0.23610493199902152,\n",
       "               0.2159908000593224,\n",
       "               0.18886396052471455,\n",
       "               0.17142486464163995,\n",
       "               0.15364627980910453,\n",
       "               0.14202628105550255,\n",
       "               0.13434566241561594,\n",
       "               0.12691336031260123,\n",
       "               0.11674132052532199,\n",
       "               0.10789486179342533,\n",
       "               0.1043177245563981,\n",
       "               0.09535518507210494,\n",
       "               0.09251361053632069,\n",
       "               0.08942206057778442,\n",
       "               0.085714166712042,\n",
       "               0.08339426824155083,\n",
       "               0.08078749292432552,\n",
       "               0.07826179219107933,\n",
       "               0.07304599968454568,\n",
       "               0.07143770535334382,\n",
       "               0.06944638632278531,\n",
       "               0.06743491988151537,\n",
       "               0.06609106351178547,\n",
       "               0.0638898172949524,\n",
       "               0.06262978138823487,\n",
       "               0.0604683912284936,\n",
       "               0.05860757242899351,\n",
       "               0.057311445446391975,\n",
       "               0.05582469452918931,\n",
       "               0.05469877816012702,\n",
       "               0.05343386496476127,\n",
       "               0.05223442463689194,\n",
       "               0.05094692150339981,\n",
       "               0.04969638798525388,\n",
       "               0.048790602567099946,\n",
       "               0.04801747074160778,\n",
       "               0.04695112050568545,\n",
       "               0.04622742441798783,\n",
       "               0.04509186152857216,\n",
       "               0.04397407932521829,\n",
       "               0.0428911874114662,\n",
       "               0.042080722426390625],\n",
       "              'train-Logloss-std': [0.0004177055089390243,\n",
       "               0.00031412197938201667,\n",
       "               0.0005393631863621199,\n",
       "               0.0020342844440116165,\n",
       "               0.00242210589272958,\n",
       "               0.0038585711694112193,\n",
       "               0.004765730441614854,\n",
       "               0.00359162753498484,\n",
       "               0.009634215219922807,\n",
       "               0.006835528987841456,\n",
       "               0.009145536907702813,\n",
       "               0.006415712532398715,\n",
       "               0.012602249613370094,\n",
       "               0.009958047074014523,\n",
       "               0.00952796581221286,\n",
       "               0.00848657500162075,\n",
       "               0.00858094960423083,\n",
       "               0.006863618590743306,\n",
       "               0.0065390123872679385,\n",
       "               0.001040467962637182,\n",
       "               0.0010738876715660679,\n",
       "               0.0016926800947383764,\n",
       "               0.0013867079310320189,\n",
       "               0.0015191841427467229,\n",
       "               0.0015932509303186316,\n",
       "               0.0009179291846139081,\n",
       "               0.004076549022335221,\n",
       "               0.0038780286284646813,\n",
       "               0.0033446987090597125,\n",
       "               0.00309303954522236,\n",
       "               0.002960369763609062,\n",
       "               0.002703746599567391,\n",
       "               0.002604410171314198,\n",
       "               0.0023892783173644137,\n",
       "               0.00210804718076286,\n",
       "               0.0017181856920134315,\n",
       "               0.0018234215936270494,\n",
       "               0.0014835376348588554,\n",
       "               0.0019424728784406533,\n",
       "               0.0016932829194923357,\n",
       "               0.0022743597702291345,\n",
       "               0.0020756575027260694,\n",
       "               0.002020470132616565,\n",
       "               0.001986831660533554,\n",
       "               0.0019230158715711136,\n",
       "               0.0018650125786116752,\n",
       "               0.0017628085885854881,\n",
       "               0.0017627832658803789,\n",
       "               0.0019958266250075882,\n",
       "               0.0021141112582187577]})}"
      ]
     },
     "execution_count": 24,
     "metadata": {},
     "output_type": "execute_result"
    }
   ],
   "source": [
    "grid = {'learning_rate': [0.03],\n",
    "'depth': [4],\n",
    "'l2_leaf_reg': [1],\n",
    "'iterations': [50]}\n",
    "model.grid_search(grid,train_dataset)"
   ]
  },
  {
   "cell_type": "code",
   "execution_count": 25,
   "id": "e94db617",
   "metadata": {},
   "outputs": [
    {
     "data": {
      "image/png": "[encoded data removed]",
      "text/plain": [
       "<Figure size 432x288 with 1 Axes>"
      ]
     },
     "metadata": {
      "needs_background": "light"
     },
     "output_type": "display_data"
    }
   ],
   "source": [
    "from sklearn import metrics\n",
    "\n",
    "y_pred_proba = model.predict_proba(X_test)[::,1]\n",
    "fpr, tpr, _ = metrics.roc_curve(y_test,  y_pred_proba)\n",
    "\n",
    "plt.plot(fpr,tpr)\n",
    "plt.ylabel('True Positive Rate')\n",
    "plt.xlabel('False Positive Rate')\n",
    "plt.show()"
   ]
  },
  {
   "cell_type": "code",
   "execution_count": 28,
   "id": "d4c44202",
   "metadata": {},
   "outputs": [
    {
     "data": {
      "image/png": "[encoded data removed]",
      "text/plain": [
       "<Figure size 720x576 with 1 Axes>"
      ]
     },
     "metadata": {
      "needs_background": "light"
     },
     "output_type": "display_data"
    }
   ],
   "source": [
    "import numpy as np\n",
    "import seaborn as sns\n",
    "\n",
    "def plot_feature_importance(importance,names,model_type):\n",
    "    feature_importance = np.array(importance)\n",
    "    feature_names = np.array(names)\n",
    "    data={'feature_names':feature_names,'feature_importance':feature_importance}\n",
    "    fi_df = pd.DataFrame(data)\n",
    "    fi_df.sort_values(by=['feature_importance'], ascending=False,inplace=True)\n",
    "    plt.figure(figsize=(10,8))\n",
    "    sns.barplot(x=fi_df['feature_importance'], y=fi_df['feature_names'])\n",
    "    plt.title(model_type + ' FEATURE IMPORTANCE')\n",
    "    plt.xlabel('FEATURE IMPORTANCE')\n",
    "    plt.ylabel('FEATURE NAMES')\n",
    "\n",
    "plot_feature_importance(model.get_feature_importance(),X.columns,'CATBOOST')"
   ]
  },
  {
   "cell_type": "code",
   "execution_count": null,
   "id": "33f0e2e2",
   "metadata": {},
   "outputs": [],
   "source": []
  }
 ],
 "metadata": {
  "kernelspec": {
   "display_name": "Python 3",
   "language": "python",
   "name": "python3"
  },
  "language_info": {
   "codemirror_mode": {
    "name": "ipython",
    "version": 3
   },
   "file_extension": ".py",
   "mimetype": "text/x-python",
   "name": "python",
   "nbconvert_exporter": "python",
   "pygments_lexer": "ipython3",
   "version": "3.8.8"
  }
 },
 "nbformat": 4,
 "nbformat_minor": 5
}
